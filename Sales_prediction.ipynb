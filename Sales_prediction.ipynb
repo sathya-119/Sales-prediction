{
 "cells": [
  {
   "cell_type": "code",
   "execution_count": 1,
   "id": "98a76b1f",
   "metadata": {},
   "outputs": [
    {
     "name": "stdout",
     "output_type": "stream",
     "text": [
      "      TV  Radio  Newspaper  Sales\n",
      "0  230.1   37.8       69.2   22.1\n",
      "1   44.5   39.3       45.1   10.4\n",
      "2   17.2   45.9       69.3   12.0\n",
      "3  151.5   41.3       58.5   16.5\n",
      "4  180.8   10.8       58.4   17.9\n",
      "<class 'pandas.core.frame.DataFrame'>\n",
      "RangeIndex: 200 entries, 0 to 199\n",
      "Data columns (total 4 columns):\n",
      " #   Column     Non-Null Count  Dtype  \n",
      "---  ------     --------------  -----  \n",
      " 0   TV         200 non-null    float64\n",
      " 1   Radio      200 non-null    float64\n",
      " 2   Newspaper  200 non-null    float64\n",
      " 3   Sales      200 non-null    float64\n",
      "dtypes: float64(4)\n",
      "memory usage: 6.4 KB\n",
      "None\n",
      "Mean Absolute Error (MAE): 0.826613697531743\n",
      "Root Mean Squared Error (RMSE): 1.117085045056966\n",
      "Predicted Sales: 15.330947272236232\n",
      "Feature Importance: [0.85278334 0.13544096 0.0117757 ]\n"
     ]
    },
    {
     "name": "stderr",
     "output_type": "stream",
     "text": [
      "/Users/nayanavishwanath/opt/anaconda3/lib/python3.9/site-packages/sklearn/model_selection/_search.py:306: UserWarning: The total space of parameters 9 is smaller than n_iter=10. Running 9 iterations. For exhaustive searches, use GridSearchCV.\n",
      "  warnings.warn(\n"
     ]
    },
    {
     "name": "stdout",
     "output_type": "stream",
     "text": [
      "Optimal Parameters from Random Search: {'n_estimators': 200, 'max_depth': 5}\n"
     ]
    }
   ],
   "source": [
    "import numpy as np\n",
    "import matplotlib.pyplot as plt\n",
    "import seaborn as sns\n",
    "from sklearn.model_selection import train_test_split\n",
    "from sklearn.preprocessing import MinMaxScaler\n",
    "from sklearn.ensemble import GradientBoostingRegressor\n",
    "from sklearn.metrics import mean_absolute_error, mean_squared_error\n",
    "from sklearn.model_selection import RandomizedSearchCV\n",
    "import pandas as pd\n",
    "\n",
    "data = pd.read_csv('advertising.csv')\n",
    "\n",
    "print(data.head())  \n",
    "print(data.info())  \n",
    "\n",
    "data.fillna(method='bfill', inplace=True)\n",
    "\n",
    "features = data[['TV', 'Radio', 'Newspaper']] \n",
    "target = data['Sales']  \n",
    "\n",
    "scaler = MinMaxScaler()\n",
    "features_scaled = scaler.fit_transform(features)\n",
    "\n",
    "X_train, X_test, y_train, y_test = train_test_split(features_scaled, target, test_size=0.2, random_state=42)\n",
    "\n",
    "regressor = GradientBoostingRegressor(n_estimators=100, random_state=42)\n",
    "\n",
    "regressor.fit(X_train, y_train)\n",
    "\n",
    "predictions = regressor.predict(X_test)\n",
    "\n",
    "mae = mean_absolute_error(y_test, predictions)\n",
    "rmse = mean_squared_error(y_test, predictions, squared=False)\n",
    "\n",
    "print(f\"Mean Absolute Error (MAE): {mae}\")\n",
    "print(f\"Root Mean Squared Error (RMSE): {rmse}\")\n",
    "\n",
    "def estimate_sales(tv_budget, radio_budget, newspaper_budget):\n",
    "    input_data = pd.DataFrame({\n",
    "        'TV': [tv_budget],\n",
    "        'Radio': [radio_budget],\n",
    "        'Newspaper': [newspaper_budget]\n",
    "    })\n",
    "\n",
    "    input_data_scaled = scaler.transform(input_data)\n",
    "    sales_forecast = regressor.predict(input_data_scaled)\n",
    "    return sales_forecast[0]\n",
    "\n",
    "predicted_sales = estimate_sales(tv_budget=150, radio_budget=30, newspaper_budget=20)\n",
    "print(f\"Predicted Sales: {predicted_sales}\")\n",
    "\n",
    "importance = regressor.feature_importances_\n",
    "print(\"Feature Importance:\", importance)\n",
    "\n",
    "search_space = {\n",
    "    'n_estimators': [100, 200, 300],\n",
    "    'max_depth': [None, 5, 10]\n",
    "}\n",
    "random_search = RandomizedSearchCV(estimator=regressor, param_distributions=search_space, n_iter=10, cv=3)\n",
    "random_search.fit(X_train, y_train)\n",
    "print(f\"Optimal Parameters from Random Search: {random_search.best_params_}\")\n"
   ]
  },
  {
   "cell_type": "code",
   "execution_count": null,
   "id": "28be0e4e",
   "metadata": {},
   "outputs": [],
   "source": []
  }
 ],
 "metadata": {
  "kernelspec": {
   "display_name": "Python 3 (ipykernel)",
   "language": "python",
   "name": "python3"
  },
  "language_info": {
   "codemirror_mode": {
    "name": "ipython",
    "version": 3
   },
   "file_extension": ".py",
   "mimetype": "text/x-python",
   "name": "python",
   "nbconvert_exporter": "python",
   "pygments_lexer": "ipython3",
   "version": "3.9.13"
  }
 },
 "nbformat": 4,
 "nbformat_minor": 5
}
